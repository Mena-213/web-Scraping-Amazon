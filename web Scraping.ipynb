{
 "cells": [
  {
   "cell_type": "code",
   "execution_count": 1,
   "metadata": {},
   "outputs": [],
   "source": [
    "HEADERS = ({'User-Agent':\n",
    "            'Mozilla/5.0 (X11; Linux x86_64) AppleWebKit/537.36 (KHTML, like Gecko) Chrome/44.0.2403.157 Safari/537.36',\n",
    "            'Accept-Language': 'en-US, en;q=0.5'})"
   ]
  },
  {
   "cell_type": "code",
   "execution_count": 2,
   "metadata": {},
   "outputs": [],
   "source": [
    "from bs4 import BeautifulSoup\n",
    "import requests\n",
    "import json"
   ]
  },
  {
   "cell_type": "code",
   "execution_count": 8,
   "metadata": {},
   "outputs": [
    {
     "name": "stdout",
     "output_type": "stream",
     "text": [
      "please input 1 to proccess on one URL or 2 to proccess on a search URL1\n",
      "please input the URLhttps://www.amazon.com/PlayStation-4-Console-1TB-Slim/dp/B074LRF639/ref=sr_1_1?dchild=1&keywords=playstation+4&qid=1610625433&sr=8-1\n"
     ]
    }
   ],
   "source": [
    "condition = input(\"please input 1 to proccess on one URL or 2 to proccess on a search URL\")\n",
    "URL = input(\"please input the URL\")\n",
    "webpage = requests.get(URL, headers=HEADERS)\n",
    "soup = BeautifulSoup(webpage.content, \"lxml\")"
   ]
  },
  {
   "cell_type": "code",
   "execution_count": 9,
   "metadata": {},
   "outputs": [],
   "source": [
    "def webScrapping(soup,File):\n",
    "    try:\n",
    "        title = soup.find(\"span\", attrs={\"id\":'productTitle'})\n",
    "        title_value = title.string\n",
    "        title_string = title_value.strip().replace(',','')\n",
    "    except:\n",
    "        title_string = \"N/A\"\n",
    "    print(\"Product Title = \", title_string)\n",
    "     \n",
    "    try:\n",
    "        price = soup.find(\"span\", attrs={'id':'priceblock_ourprice'}).string.strip().replace(',','')\n",
    "    except:\n",
    "        price = \"N/A\"\n",
    "    print(\"product Price = \",price)\n",
    "     \n",
    "    try:\n",
    "        rating = soup.find(\"i\", attrs={'class':'a-icon a-icon-star a-star-4-5'}).string.strip().replace(',','')\n",
    "    except:\n",
    "        try:\n",
    "            rating = soup.find(\"span\", attrs={'class':'a-icon-alt'}).string.strip().replace(',','')\n",
    "        except:\n",
    "            rating = \"N/A\"\n",
    "    print(\"product rating = \",rating)\n",
    "    if(rating == \"4 Stars & Up\"):\n",
    "        return -1\n",
    "   \n",
    "    try:\n",
    "        review_count = soup.find(\"span\", attrs={'id':'acrCustomerReviewText'}).string.strip().replace(',','')\n",
    "    except:\n",
    "        review_count = \"N/A\"\n",
    "    print(\"product rating count = \",review_count)\n",
    "    \n",
    "    try:\n",
    "        company = soup.find('a',id='sellerProfileTriggerId').get_text()\n",
    "    except:\n",
    "        company=\"N/A\"\n",
    "    print(\"the company that sells = \",company)\n",
    "    \n",
    "    img_div = soup.find(id=\"imgTagWrapperId\")\n",
    "\n",
    "    imgs_str = img_div.img.get('data-a-dynamic-image')  # a string in Json format\n",
    "\n",
    "    # convert to a dictionary\n",
    "    imgs_dict = json.loads(imgs_str)\n",
    "    #each key in the dictionary is a link of an image, and the value shows the size (print all the dictionay to inspect)\n",
    "    num_element = 0 \n",
    "    first_link = list(imgs_dict.keys())[num_element]\n",
    "    print(\"product image URL = \",first_link)\n",
    "    File.write(f\"{title_string},\")\n",
    "    File.write(f\"{price},\")\n",
    "    File.write(f\"{rating},\")\n",
    "    File.write(f\"{review_count},\")\n",
    "    File.write(f\"{company},\")\n",
    "    File.write(f\"{first_link},\\n\")\n"
   ]
  },
  {
   "cell_type": "code",
   "execution_count": 10,
   "metadata": {
    "scrolled": true
   },
   "outputs": [
    {
     "name": "stdout",
     "output_type": "stream",
     "text": [
      "Product Title =  PlayStation 4 Console - 1TB Slim Edition\n",
      "product Price =  $419.99\n",
      "product rating =  4.8 out of 5 stars\n",
      "product rating count =  3553 ratings\n",
      "the company that sells =  TRENDY-TECH (We Record Serial Numbers)\n",
      "product image URL =  https://images-na.ssl-images-amazon.com/images/I/715RBdgZtHL._SX425_.jpg\n"
     ]
    }
   ],
   "source": [
    "import os\n",
    "if os.path.exists(\"out.csv\"):\n",
    "    os.remove(\"out.csv\")\n",
    "else:\n",
    "    print(\"The file does not exist\")\n",
    "File = open(\"out.csv\", \"a\")\n",
    "File.write(f\"Product Title,\")\n",
    "File.write(f\"product Price,\")\n",
    "File.write(f\"product rating,\")\n",
    "File.write(f\"product rating count,\")\n",
    "File.write(f\"the company that sells,\")\n",
    "File.write(f\"product image URL,\\n\")\n",
    "if(condition == \"1\"):\n",
    "    webScrapping(soup,File)\n",
    "elif(condition == \"2\"):\n",
    "    links = soup.find_all(\"a\", attrs={'class':'a-link-normal s-no-outline'})\n",
    "    links_list = []\n",
    "    # Loop for extracting links from Tag Objects\n",
    "    for link in links:\n",
    "        links_list.append(link.get('href'))\n",
    "\n",
    "    for link in links_list:\n",
    "            new_webpage = requests.get(\"https://www.amazon.com\" + link, headers=HEADERS)\n",
    "            new_soup = BeautifulSoup(new_webpage.content, \"lxml\")\n",
    "            webScrapping(new_soup,File)\n",
    "File.close()"
   ]
  },
  {
   "cell_type": "code",
   "execution_count": null,
   "metadata": {},
   "outputs": [],
   "source": []
  },
  {
   "cell_type": "code",
   "execution_count": null,
   "metadata": {},
   "outputs": [],
   "source": []
  }
 ],
 "metadata": {
  "kernelspec": {
   "display_name": "Python 3",
   "language": "python",
   "name": "python3"
  },
  "language_info": {
   "codemirror_mode": {
    "name": "ipython",
    "version": 3
   },
   "file_extension": ".py",
   "mimetype": "text/x-python",
   "name": "python",
   "nbconvert_exporter": "python",
   "pygments_lexer": "ipython3",
   "version": "3.7.7"
  }
 },
 "nbformat": 4,
 "nbformat_minor": 4
}
